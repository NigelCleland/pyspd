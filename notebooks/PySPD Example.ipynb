{
 "metadata": {
  "name": "PySPD Example"
 },
 "nbformat": 3,
 "nbformat_minor": 0,
 "worksheets": [
  {
   "cells": [
    {
     "cell_type": "markdown",
     "metadata": {},
     "source": [
      "# PySPD\n",
      "\n",
      "* PySPD is a small library I created to assist in the creation of small linear programming models with reserve constraints.\n",
      "* It serves as an abstraction layer around a linear program \n",
      "* Use to make creating models easier, can also chuck in some post processing as well"
     ]
    },
    {
     "cell_type": "code",
     "collapsed": false,
     "input": [
      "# Import Modules\n",
      "import numpy as np\n",
      "import pulp\n",
      "from pyspd import *"
     ],
     "language": "python",
     "metadata": {},
     "outputs": [],
     "prompt_number": 1
    },
    {
     "cell_type": "markdown",
     "metadata": {},
     "source": [
      "## Creating a Model\n",
      "\n",
      "* To create a model we need to define some basic parameters, there is a fixed order for doing this.\n",
      "* A model consists of companies, reserve zones, nodes and branches\n",
      "* You need to define reserve zones first\n",
      "* Nodes can then be assigned to a particular reserve zone\n",
      "* Branches may then be defined between nodes\n",
      "* This ordering ensures that the system is fully defined in an appropriate manner"
     ]
    },
    {
     "cell_type": "code",
     "collapsed": false,
     "input": [
      "# Define a System Operator\n",
      "operator = SystemOperator()\n",
      "\n",
      "# Two Reserve Zones\n",
      "north_island = ReserveZone(\"NorthIsland\", operator)\n",
      "south_island = ReserveZone(\"SouthIsland\", operator)\n",
      "\n",
      "# Define a company of interest\n",
      "meridian = Company(\"Meridian\")\n",
      "\n",
      "# I typically define what I'm holding constant as the market\n",
      "market = Company(\"Market\")\n",
      "\n",
      "# Define two nodes, benmore and Haywards\n",
      "benmore = Node(\"Benmore\", operator, south_island, demand=140)\n",
      "haywards = Node(\"Haywards\", operator, north_island, demand=150)\n",
      "\n",
      "# Define a Transmission link, make it a risk setter\n",
      "hvdc = Branch(operator, benmore, haywards, capacity=1000, risk=True)"
     ],
     "language": "python",
     "metadata": {},
     "outputs": [],
     "prompt_number": 2
    },
    {
     "cell_type": "markdown",
     "metadata": {},
     "source": [
      "## Creating Stations\n",
      "\n",
      "* We then define a series of stations or interruptible load providers.\n",
      "* A station may be either energy or energy and reserve.\n",
      "* An interruptible load provider is just reserve"
     ]
    },
    {
     "cell_type": "code",
     "collapsed": false,
     "input": [
      "# Define two stations and two interruptible load providers.\n",
      "manapouri = Station(\"Manapouri\", operator, benmore, meridian, capacity=400)\n",
      "roxburgh = Station(\"Roxburgh\", operator, benmore, market, capacity=400)\n",
      "tiwai = InterruptibleLoad(\"Tiwai\", operator, benmore, market)\n",
      "nzst = InterruptibleLoad(\"NZST\", operator, haywards, market)"
     ],
     "language": "python",
     "metadata": {},
     "outputs": [],
     "prompt_number": 3
    },
    {
     "cell_type": "markdown",
     "metadata": {},
     "source": [
      "## Apply Offers\n",
      "\n",
      "* We can then add energy and reserve offers to the units.\n",
      "* Generator Reserve offers are price - capacity - proportion\n",
      "* Energy offers are price - capacity\n",
      "\n",
      "E.g.\n",
      "\n",
      "$ g_i \\le g_{i,max} $\n",
      "\n",
      "$ r_i \\le r_{i, max} $\n",
      "\n",
      "$ r_i \\le p_i g_i $\n",
      "\n",
      "$ r_i + g_i \\le g_{i, capacity} $"
     ]
    },
    {
     "cell_type": "code",
     "collapsed": false,
     "input": [
      "# Manapouri offers\n",
      "manapouri.add_reserve_offer(100, 300, 1.0)\n",
      "manapouri.add_energy_offer(25, 125)\n",
      "\n",
      "# Roxburgh\n",
      "roxburgh.add_energy_offer(30, 250)\n",
      "roxburgh.add_reserve_offer(15, 100, 1)\n",
      "\n",
      "# Tiwai and NZST\n",
      "tiwai.add_reserve_offer(15, 80)\n",
      "nzst.add_reserve_offer(150, 500)\n",
      "\n",
      "\n"
     ],
     "language": "python",
     "metadata": {},
     "outputs": [
      {
       "output_type": "pyout",
       "prompt_number": 4,
       "text": [
        "<pyspd.actors.InterruptibleLoad at 0x456b550>"
       ]
      }
     ],
     "prompt_number": 4
    },
    {
     "cell_type": "markdown",
     "metadata": {},
     "source": [
      "# Apply Special Sauce\n",
      "\n",
      "* Now we do a little bit of innovation and we apply an iterator \n",
      "* The iterator varies the reserve price across user defined parameters\n",
      "* This is all solved simultaneously within the LP\n"
     ]
    },
    {
     "cell_type": "code",
     "collapsed": false,
     "input": [
      "# Vary the reserve price at Manapouri between 0 and 200 (the 210 won't be included)\n",
      "# Vary in increments of $10/MWh\n",
      "operator.create_iterator(manapouri, \"energy_price\", np.arange(0, 100, 10))"
     ],
     "language": "python",
     "metadata": {},
     "outputs": [
      {
       "output_type": "pyout",
       "prompt_number": 5,
       "text": [
        "<pyspd.actors.SystemOperator at 0x456b950>"
       ]
      }
     ],
     "prompt_number": 5
    },
    {
     "cell_type": "markdown",
     "metadata": {},
     "source": [
      "## Solving the Model\n",
      "\n",
      "* Solve the model and create an analysis object\n",
      "* This is a generation only LP\n",
      "\n",
      "$ min \\sum p_i g_i + \\sum p_i r_i $\n",
      "\n",
      "subject to ...\n"
     ]
    },
    {
     "cell_type": "code",
     "collapsed": false,
     "input": [
      "# Create the Solver\n",
      "lpsolver = SPDModel(operator)\n",
      "# Solve the LP\n",
      "lpsolver.full_run()\n",
      "# Create an Analytics Function (Yes I know this is convoluted)\n",
      "ana = Analytics(lpsolver)"
     ],
     "language": "python",
     "metadata": {},
     "outputs": [],
     "prompt_number": 6
    },
    {
     "cell_type": "markdown",
     "metadata": {},
     "source": [
      "# Lets have a look at some cool things\n",
      "\n",
      "## We'll start with the Energy and Reserve Dispatch.\n",
      "\n",
      "* These are all done as a function of the Manapouri Reserve Price iterator we specified."
     ]
    },
    {
     "cell_type": "code",
     "collapsed": false,
     "input": [
      "ana.create_dispatch_df()\n",
      "ana.final_dispatch_df"
     ],
     "language": "python",
     "metadata": {},
     "outputs": [
      {
       "html": [
        "<div style=\"max-height:1000px;max-width:1500px;overflow:auto;\">\n",
        "<table border=\"1\" class=\"dataframe\">\n",
        "  <thead>\n",
        "    <tr style=\"text-align: right;\">\n",
        "      <th></th>\n",
        "      <th>Manapouri Energy Total</th>\n",
        "      <th>Manapouri Reserve Total</th>\n",
        "      <th>NZST Reserve Total</th>\n",
        "      <th>Roxburgh Energy Total</th>\n",
        "      <th>Roxburgh Reserve Total</th>\n",
        "      <th>Tiwai Reserve Total</th>\n",
        "    </tr>\n",
        "    <tr>\n",
        "      <th>Manapouri Energy Price</th>\n",
        "      <th></th>\n",
        "      <th></th>\n",
        "      <th></th>\n",
        "      <th></th>\n",
        "      <th></th>\n",
        "      <th></th>\n",
        "    </tr>\n",
        "  </thead>\n",
        "  <tbody>\n",
        "    <tr>\n",
        "      <th>0 </th>\n",
        "      <td> 125</td>\n",
        "      <td> 0</td>\n",
        "      <td> 150</td>\n",
        "      <td> 165</td>\n",
        "      <td> 100</td>\n",
        "      <td> 65</td>\n",
        "    </tr>\n",
        "    <tr>\n",
        "      <th>10</th>\n",
        "      <td> 125</td>\n",
        "      <td> 0</td>\n",
        "      <td> 150</td>\n",
        "      <td> 165</td>\n",
        "      <td> 100</td>\n",
        "      <td> 65</td>\n",
        "    </tr>\n",
        "    <tr>\n",
        "      <th>20</th>\n",
        "      <td> 125</td>\n",
        "      <td> 0</td>\n",
        "      <td> 150</td>\n",
        "      <td> 165</td>\n",
        "      <td> 100</td>\n",
        "      <td> 65</td>\n",
        "    </tr>\n",
        "    <tr>\n",
        "      <th>30</th>\n",
        "      <td> 125</td>\n",
        "      <td> 0</td>\n",
        "      <td> 150</td>\n",
        "      <td> 165</td>\n",
        "      <td> 100</td>\n",
        "      <td> 65</td>\n",
        "    </tr>\n",
        "    <tr>\n",
        "      <th>40</th>\n",
        "      <td> 125</td>\n",
        "      <td> 0</td>\n",
        "      <td> 150</td>\n",
        "      <td> 165</td>\n",
        "      <td> 100</td>\n",
        "      <td> 65</td>\n",
        "    </tr>\n",
        "    <tr>\n",
        "      <th>50</th>\n",
        "      <td> 110</td>\n",
        "      <td> 0</td>\n",
        "      <td> 150</td>\n",
        "      <td> 180</td>\n",
        "      <td> 100</td>\n",
        "      <td> 80</td>\n",
        "    </tr>\n",
        "    <tr>\n",
        "      <th>60</th>\n",
        "      <td> 110</td>\n",
        "      <td> 0</td>\n",
        "      <td> 150</td>\n",
        "      <td> 180</td>\n",
        "      <td> 100</td>\n",
        "      <td> 80</td>\n",
        "    </tr>\n",
        "    <tr>\n",
        "      <th>70</th>\n",
        "      <td> 110</td>\n",
        "      <td> 0</td>\n",
        "      <td> 150</td>\n",
        "      <td> 180</td>\n",
        "      <td> 100</td>\n",
        "      <td> 80</td>\n",
        "    </tr>\n",
        "    <tr>\n",
        "      <th>80</th>\n",
        "      <td> 110</td>\n",
        "      <td> 0</td>\n",
        "      <td> 150</td>\n",
        "      <td> 180</td>\n",
        "      <td> 100</td>\n",
        "      <td> 80</td>\n",
        "    </tr>\n",
        "    <tr>\n",
        "      <th>90</th>\n",
        "      <td> 110</td>\n",
        "      <td> 0</td>\n",
        "      <td> 150</td>\n",
        "      <td> 180</td>\n",
        "      <td> 100</td>\n",
        "      <td> 80</td>\n",
        "    </tr>\n",
        "  </tbody>\n",
        "</table>\n",
        "</div>"
       ],
       "output_type": "pyout",
       "prompt_number": 7,
       "text": [
        "                        Manapouri Energy Total  Manapouri Reserve Total  \\\n",
        "Manapouri Energy Price                                                    \n",
        "0                                          125                        0   \n",
        "10                                         125                        0   \n",
        "20                                         125                        0   \n",
        "30                                         125                        0   \n",
        "40                                         125                        0   \n",
        "50                                         110                        0   \n",
        "60                                         110                        0   \n",
        "70                                         110                        0   \n",
        "80                                         110                        0   \n",
        "90                                         110                        0   \n",
        "\n",
        "                        NZST Reserve Total  Roxburgh Energy Total  \\\n",
        "Manapouri Energy Price                                              \n",
        "0                                      150                    165   \n",
        "10                                     150                    165   \n",
        "20                                     150                    165   \n",
        "30                                     150                    165   \n",
        "40                                     150                    165   \n",
        "50                                     150                    180   \n",
        "60                                     150                    180   \n",
        "70                                     150                    180   \n",
        "80                                     150                    180   \n",
        "90                                     150                    180   \n",
        "\n",
        "                        Roxburgh Reserve Total  Tiwai Reserve Total  \n",
        "Manapouri Energy Price                                               \n",
        "0                                          100                   65  \n",
        "10                                         100                   65  \n",
        "20                                         100                   65  \n",
        "30                                         100                   65  \n",
        "40                                         100                   65  \n",
        "50                                         100                   80  \n",
        "60                                         100                   80  \n",
        "70                                         100                   80  \n",
        "80                                         100                   80  \n",
        "90                                         100                   80  "
       ]
      }
     ],
     "prompt_number": 7
    },
    {
     "cell_type": "markdown",
     "metadata": {},
     "source": [
      "# Or we could look at prices"
     ]
    },
    {
     "cell_type": "code",
     "collapsed": false,
     "input": [
      "ana.create_price_df()\n",
      "ana.final_price_df"
     ],
     "language": "python",
     "metadata": {},
     "outputs": [
      {
       "html": [
        "<div style=\"max-height:1000px;max-width:1500px;overflow:auto;\">\n",
        "<table border=\"1\" class=\"dataframe\">\n",
        "  <thead>\n",
        "    <tr style=\"text-align: right;\">\n",
        "      <th></th>\n",
        "      <th>Benmore Energy Price</th>\n",
        "      <th>Haywards Energy Price</th>\n",
        "      <th>NorthIsland Reserve Price</th>\n",
        "      <th>SouthIsland Reserve Price</th>\n",
        "    </tr>\n",
        "    <tr>\n",
        "      <th>Manapouri Energy Price</th>\n",
        "      <th></th>\n",
        "      <th></th>\n",
        "      <th></th>\n",
        "      <th></th>\n",
        "    </tr>\n",
        "  </thead>\n",
        "  <tbody>\n",
        "    <tr>\n",
        "      <th>0 </th>\n",
        "      <td> 45</td>\n",
        "      <td> 195</td>\n",
        "      <td> 150</td>\n",
        "      <td> 15</td>\n",
        "    </tr>\n",
        "    <tr>\n",
        "      <th>10</th>\n",
        "      <td> 45</td>\n",
        "      <td> 195</td>\n",
        "      <td> 150</td>\n",
        "      <td> 15</td>\n",
        "    </tr>\n",
        "    <tr>\n",
        "      <th>20</th>\n",
        "      <td> 45</td>\n",
        "      <td> 195</td>\n",
        "      <td> 150</td>\n",
        "      <td> 15</td>\n",
        "    </tr>\n",
        "    <tr>\n",
        "      <th>30</th>\n",
        "      <td> 45</td>\n",
        "      <td> 195</td>\n",
        "      <td> 150</td>\n",
        "      <td> 15</td>\n",
        "    </tr>\n",
        "    <tr>\n",
        "      <th>40</th>\n",
        "      <td> 45</td>\n",
        "      <td> 195</td>\n",
        "      <td> 150</td>\n",
        "      <td> 15</td>\n",
        "    </tr>\n",
        "    <tr>\n",
        "      <th>50</th>\n",
        "      <td> 50</td>\n",
        "      <td> 200</td>\n",
        "      <td> 150</td>\n",
        "      <td> 20</td>\n",
        "    </tr>\n",
        "    <tr>\n",
        "      <th>60</th>\n",
        "      <td> 60</td>\n",
        "      <td> 210</td>\n",
        "      <td> 150</td>\n",
        "      <td> 30</td>\n",
        "    </tr>\n",
        "    <tr>\n",
        "      <th>70</th>\n",
        "      <td> 70</td>\n",
        "      <td> 220</td>\n",
        "      <td> 150</td>\n",
        "      <td> 40</td>\n",
        "    </tr>\n",
        "    <tr>\n",
        "      <th>80</th>\n",
        "      <td> 80</td>\n",
        "      <td> 230</td>\n",
        "      <td> 150</td>\n",
        "      <td> 50</td>\n",
        "    </tr>\n",
        "    <tr>\n",
        "      <th>90</th>\n",
        "      <td> 90</td>\n",
        "      <td> 240</td>\n",
        "      <td> 150</td>\n",
        "      <td> 60</td>\n",
        "    </tr>\n",
        "  </tbody>\n",
        "</table>\n",
        "</div>"
       ],
       "output_type": "pyout",
       "prompt_number": 8,
       "text": [
        "                        Benmore Energy Price  Haywards Energy Price  \\\n",
        "Manapouri Energy Price                                                \n",
        "0                                         45                    195   \n",
        "10                                        45                    195   \n",
        "20                                        45                    195   \n",
        "30                                        45                    195   \n",
        "40                                        45                    195   \n",
        "50                                        50                    200   \n",
        "60                                        60                    210   \n",
        "70                                        70                    220   \n",
        "80                                        80                    230   \n",
        "90                                        90                    240   \n",
        "\n",
        "                        NorthIsland Reserve Price  SouthIsland Reserve Price  \n",
        "Manapouri Energy Price                                                        \n",
        "0                                             150                         15  \n",
        "10                                            150                         15  \n",
        "20                                            150                         15  \n",
        "30                                            150                         15  \n",
        "40                                            150                         15  \n",
        "50                                            150                         20  \n",
        "60                                            150                         30  \n",
        "70                                            150                         40  \n",
        "80                                            150                         50  \n",
        "90                                            150                         60  "
       ]
      }
     ],
     "prompt_number": 8
    },
    {
     "cell_type": "markdown",
     "metadata": {},
     "source": [
      "# Or look at the North and South Island Prices and Risks as a function of the Manapouri Energy Price"
     ]
    },
    {
     "cell_type": "code",
     "collapsed": false,
     "input": [
      "ana.create_reserve_df()\n",
      "ana.reserve_df"
     ],
     "language": "python",
     "metadata": {},
     "outputs": [
      {
       "html": [
        "<div style=\"max-height:1000px;max-width:1500px;overflow:auto;\">\n",
        "<table border=\"1\" class=\"dataframe\">\n",
        "  <thead>\n",
        "    <tr style=\"text-align: right;\">\n",
        "      <th></th>\n",
        "      <th>NorthIsland Reserve Price</th>\n",
        "      <th>SouthIsland Reserve Price</th>\n",
        "      <th>NorthIsland Reserve Risk</th>\n",
        "      <th>SouthIsland Reserve Risk</th>\n",
        "    </tr>\n",
        "    <tr>\n",
        "      <th>Manapouri Energy Price</th>\n",
        "      <th></th>\n",
        "      <th></th>\n",
        "      <th></th>\n",
        "      <th></th>\n",
        "    </tr>\n",
        "  </thead>\n",
        "  <tbody>\n",
        "    <tr>\n",
        "      <th>0 </th>\n",
        "      <td> 150</td>\n",
        "      <td> 15</td>\n",
        "      <td> 150</td>\n",
        "      <td> 165</td>\n",
        "    </tr>\n",
        "    <tr>\n",
        "      <th>10</th>\n",
        "      <td> 150</td>\n",
        "      <td> 15</td>\n",
        "      <td> 150</td>\n",
        "      <td> 165</td>\n",
        "    </tr>\n",
        "    <tr>\n",
        "      <th>20</th>\n",
        "      <td> 150</td>\n",
        "      <td> 15</td>\n",
        "      <td> 150</td>\n",
        "      <td> 165</td>\n",
        "    </tr>\n",
        "    <tr>\n",
        "      <th>30</th>\n",
        "      <td> 150</td>\n",
        "      <td> 15</td>\n",
        "      <td> 150</td>\n",
        "      <td> 165</td>\n",
        "    </tr>\n",
        "    <tr>\n",
        "      <th>40</th>\n",
        "      <td> 150</td>\n",
        "      <td> 15</td>\n",
        "      <td> 150</td>\n",
        "      <td> 165</td>\n",
        "    </tr>\n",
        "    <tr>\n",
        "      <th>50</th>\n",
        "      <td> 150</td>\n",
        "      <td> 20</td>\n",
        "      <td> 150</td>\n",
        "      <td> 180</td>\n",
        "    </tr>\n",
        "    <tr>\n",
        "      <th>60</th>\n",
        "      <td> 150</td>\n",
        "      <td> 30</td>\n",
        "      <td> 150</td>\n",
        "      <td> 180</td>\n",
        "    </tr>\n",
        "    <tr>\n",
        "      <th>70</th>\n",
        "      <td> 150</td>\n",
        "      <td> 40</td>\n",
        "      <td> 150</td>\n",
        "      <td> 180</td>\n",
        "    </tr>\n",
        "    <tr>\n",
        "      <th>80</th>\n",
        "      <td> 150</td>\n",
        "      <td> 50</td>\n",
        "      <td> 150</td>\n",
        "      <td> 180</td>\n",
        "    </tr>\n",
        "    <tr>\n",
        "      <th>90</th>\n",
        "      <td> 150</td>\n",
        "      <td> 60</td>\n",
        "      <td> 150</td>\n",
        "      <td> 180</td>\n",
        "    </tr>\n",
        "  </tbody>\n",
        "</table>\n",
        "</div>"
       ],
       "output_type": "pyout",
       "prompt_number": 9,
       "text": [
        "                        NorthIsland Reserve Price  SouthIsland Reserve Price  \\\n",
        "Manapouri Energy Price                                                         \n",
        "0                                             150                         15   \n",
        "10                                            150                         15   \n",
        "20                                            150                         15   \n",
        "30                                            150                         15   \n",
        "40                                            150                         15   \n",
        "50                                            150                         20   \n",
        "60                                            150                         30   \n",
        "70                                            150                         40   \n",
        "80                                            150                         50   \n",
        "90                                            150                         60   \n",
        "\n",
        "                        NorthIsland Reserve Risk  SouthIsland Reserve Risk  \n",
        "Manapouri Energy Price                                                      \n",
        "0                                            150                       165  \n",
        "10                                           150                       165  \n",
        "20                                           150                       165  \n",
        "30                                           150                       165  \n",
        "40                                           150                       165  \n",
        "50                                           150                       180  \n",
        "60                                           150                       180  \n",
        "70                                           150                       180  \n",
        "80                                           150                       180  \n",
        "90                                           150                       180  "
       ]
      }
     ],
     "prompt_number": 9
    },
    {
     "cell_type": "markdown",
     "metadata": {},
     "source": [
      "# Other Functionality\n",
      "\n",
      "* I haven't been able to devote any time to this recently so not much else has progressed.\n",
      "* Could likely build in some counter factuals\n",
      "* Potentially Agents?\n",
      "* There's a couple nice libraries with built in support for learning algorithms etc\n",
      "* can also do these as plots...\n"
     ]
    },
    {
     "cell_type": "code",
     "collapsed": false,
     "input": [
      "# Show the increase in the South Island Reserve Price as a function of the Manapouri Energy price\n",
      "ana.reserve_df[\"SouthIsland Reserve Price\"].plot()\n"
     ],
     "language": "python",
     "metadata": {},
     "outputs": [
      {
       "output_type": "pyout",
       "prompt_number": 14,
       "text": [
        "<matplotlib.axes.AxesSubplot at 0x4e0c610>"
       ]
      },
      {
       "output_type": "display_data",
       "png": "[encoded data removed]"
      }
     ],
     "prompt_number": 14
    },
    {
     "cell_type": "markdown",
     "metadata": {},
     "source": [
      "# Can also show the profits at the various units"
     ]
    },
    {
     "cell_type": "code",
     "collapsed": false,
     "input": [
      "# Manapouri\n",
      "ana.create_master()\n",
      "manapouri.calculate_profits()\n",
      "manapouri.total_profit.plot()"
     ],
     "language": "python",
     "metadata": {},
     "outputs": [
      {
       "output_type": "pyout",
       "prompt_number": 22,
       "text": [
        "<matplotlib.axes.AxesSubplot at 0x523ba90>"
       ]
      },
      {
       "output_type": "display_data",
       "png": "[encoded data removed]"
      }
     ],
     "prompt_number": 22
    },
    {
     "cell_type": "code",
     "collapsed": false,
     "input": [
      "roxburgh.calculate_profits()\n",
      "roxburgh.total_profit.plot()"
     ],
     "language": "python",
     "metadata": {},
     "outputs": [
      {
       "output_type": "pyout",
       "prompt_number": 23,
       "text": [
        "<matplotlib.axes.AxesSubplot at 0x5497b90>"
       ]
      },
      {
       "output_type": "display_data",
       "png": "[encoded data removed]"
      }
     ],
     "prompt_number": 23
    }
   ],
   "metadata": {}
  }
 ]
}